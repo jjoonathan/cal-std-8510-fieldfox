{
 "cells": [
  {
   "cell_type": "markdown",
   "id": "1c71b1d7-f1d5-4704-b119-8d056c9fa839",
   "metadata": {},
   "source": [
    "# FieldFox"
   ]
  },
  {
   "cell_type": "code",
   "execution_count": 1,
   "id": "a8359e46-349e-4197-aed3-c3466e23aaca",
   "metadata": {},
   "outputs": [
    {
     "ename": "VisaIOError",
     "evalue": "VI_ERROR_RSRC_NFOUND (-1073807343): Insufficient location information or the requested device or resource is not present in the system.",
     "output_type": "error",
     "traceback": [
      "\u001b[0;31m---------------------------------------------------------------------------\u001b[0m",
      "\u001b[0;31mRPCError\u001b[0m                                  Traceback (most recent call last)",
      "File \u001b[0;32m~/.local/share/virtualenvs/cal-std-8510-fieldfox-XGyRn3yK/lib/python3.11/site-packages/pyvisa_py/tcpip.py:457\u001b[0m, in \u001b[0;36mTCPIPInstrVxi11.after_parsing\u001b[0;34m(self)\u001b[0m\n\u001b[1;32m    456\u001b[0m \u001b[38;5;28;01mtry\u001b[39;00m:\n\u001b[0;32m--> 457\u001b[0m     \u001b[38;5;28mself\u001b[39m\u001b[38;5;241m.\u001b[39minterface \u001b[38;5;241m=\u001b[39m \u001b[43mVxi11CoreClient\u001b[49m\u001b[43m(\u001b[49m\u001b[43mhost_address\u001b[49m\u001b[43m,\u001b[49m\u001b[43m \u001b[49m\u001b[43mport\u001b[49m\u001b[43m,\u001b[49m\u001b[43m \u001b[49m\u001b[38;5;28;43mself\u001b[39;49m\u001b[38;5;241;43m.\u001b[39;49m\u001b[43mopen_timeout\u001b[49m\u001b[43m)\u001b[49m\n\u001b[1;32m    458\u001b[0m \u001b[38;5;28;01mexcept\u001b[39;00m rpc\u001b[38;5;241m.\u001b[39mRPCError:\n",
      "File \u001b[0;32m~/.local/share/virtualenvs/cal-std-8510-fieldfox-XGyRn3yK/lib/python3.11/site-packages/pyvisa_py/tcpip.py:361\u001b[0m, in \u001b[0;36mVxi11CoreClient.__init__\u001b[0;34m(self, host, port, open_timeout)\u001b[0m\n\u001b[1;32m    360\u001b[0m \u001b[38;5;28;01mif\u001b[39;00m port \u001b[38;5;129;01mis\u001b[39;00m \u001b[38;5;28;01mNone\u001b[39;00m:\n\u001b[0;32m--> 361\u001b[0m     \u001b[43mrpc\u001b[49m\u001b[38;5;241;43m.\u001b[39;49m\u001b[43mTCPClient\u001b[49m\u001b[38;5;241;43m.\u001b[39;49m\u001b[38;5;21;43m__init__\u001b[39;49m\u001b[43m(\u001b[49m\u001b[38;5;28;43mself\u001b[39;49m\u001b[43m,\u001b[49m\u001b[43m \u001b[49m\u001b[43mhost\u001b[49m\u001b[43m,\u001b[49m\u001b[43m \u001b[49m\u001b[43mprog\u001b[49m\u001b[43m,\u001b[49m\u001b[43m \u001b[49m\u001b[43mvers\u001b[49m\u001b[43m,\u001b[49m\u001b[43m \u001b[49m\u001b[43mopen_timeout\u001b[49m\u001b[43m)\u001b[49m\n\u001b[1;32m    362\u001b[0m \u001b[38;5;28;01melse\u001b[39;00m:\n\u001b[1;32m    363\u001b[0m     \u001b[38;5;66;03m# bypass the portmapper lookup and use the specified port instead\u001b[39;00m\n",
      "File \u001b[0;32m~/.local/share/virtualenvs/cal-std-8510-fieldfox-XGyRn3yK/lib/python3.11/site-packages/pyvisa_py/protocols/rpc.py:823\u001b[0m, in \u001b[0;36mTCPClient.__init__\u001b[0;34m(self, host, prog, vers, open_timeout)\u001b[0m\n\u001b[1;32m    822\u001b[0m \u001b[38;5;28;01mdef\u001b[39;00m \u001b[38;5;21m__init__\u001b[39m(\u001b[38;5;28mself\u001b[39m, host, prog, vers, open_timeout\u001b[38;5;241m=\u001b[39m\u001b[38;5;241m5000\u001b[39m):\n\u001b[0;32m--> 823\u001b[0m     pmap \u001b[38;5;241m=\u001b[39m \u001b[43mTCPPortMapperClient\u001b[49m\u001b[43m(\u001b[49m\u001b[43mhost\u001b[49m\u001b[43m,\u001b[49m\u001b[43m \u001b[49m\u001b[43mopen_timeout\u001b[49m\u001b[43m)\u001b[49m\n\u001b[1;32m    824\u001b[0m     port \u001b[38;5;241m=\u001b[39m pmap\u001b[38;5;241m.\u001b[39mget_port((prog, vers, IPPROTO_TCP, \u001b[38;5;241m0\u001b[39m))\n",
      "File \u001b[0;32m~/.local/share/virtualenvs/cal-std-8510-fieldfox-XGyRn3yK/lib/python3.11/site-packages/pyvisa_py/protocols/rpc.py:803\u001b[0m, in \u001b[0;36mTCPPortMapperClient.__init__\u001b[0;34m(self, host, open_timeout)\u001b[0m\n\u001b[1;32m    802\u001b[0m \u001b[38;5;28;01mdef\u001b[39;00m \u001b[38;5;21m__init__\u001b[39m(\u001b[38;5;28mself\u001b[39m, host, open_timeout\u001b[38;5;241m=\u001b[39m\u001b[38;5;241m5000\u001b[39m):\n\u001b[0;32m--> 803\u001b[0m     \u001b[43mRawTCPClient\u001b[49m\u001b[38;5;241;43m.\u001b[39;49m\u001b[38;5;21;43m__init__\u001b[39;49m\u001b[43m(\u001b[49m\u001b[38;5;28;43mself\u001b[39;49m\u001b[43m,\u001b[49m\u001b[43m \u001b[49m\u001b[43mhost\u001b[49m\u001b[43m,\u001b[49m\u001b[43m \u001b[49m\u001b[43mPMAP_PROG\u001b[49m\u001b[43m,\u001b[49m\u001b[43m \u001b[49m\u001b[43mPMAP_VERS\u001b[49m\u001b[43m,\u001b[49m\u001b[43m \u001b[49m\u001b[43mPMAP_PORT\u001b[49m\u001b[43m,\u001b[49m\u001b[43m \u001b[49m\u001b[43mopen_timeout\u001b[49m\u001b[43m)\u001b[49m\n\u001b[1;32m    804\u001b[0m     PartialPortMapperClient\u001b[38;5;241m.\u001b[39m\u001b[38;5;21m__init__\u001b[39m(\u001b[38;5;28mself\u001b[39m)\n",
      "File \u001b[0;32m~/.local/share/virtualenvs/cal-std-8510-fieldfox-XGyRn3yK/lib/python3.11/site-packages/pyvisa_py/protocols/rpc.py:454\u001b[0m, in \u001b[0;36mRawTCPClient.__init__\u001b[0;34m(self, host, prog, vers, port, open_timeout)\u001b[0m\n\u001b[1;32m    453\u001b[0m open_timeout \u001b[38;5;241m=\u001b[39m open_timeout \u001b[38;5;28;01mif\u001b[39;00m open_timeout \u001b[38;5;129;01mis\u001b[39;00m \u001b[38;5;129;01mnot\u001b[39;00m \u001b[38;5;28;01mNone\u001b[39;00m \u001b[38;5;28;01melse\u001b[39;00m \u001b[38;5;241m5000\u001b[39m\n\u001b[0;32m--> 454\u001b[0m \u001b[38;5;28;43mself\u001b[39;49m\u001b[38;5;241;43m.\u001b[39;49m\u001b[43mconnect\u001b[49m\u001b[43m(\u001b[49m\u001b[38;5;241;43m1e-3\u001b[39;49m\u001b[43m \u001b[49m\u001b[38;5;241;43m*\u001b[39;49m\u001b[43m \u001b[49m\u001b[43mopen_timeout\u001b[49m\u001b[43m)\u001b[49m\n\u001b[1;32m    455\u001b[0m \u001b[38;5;66;03m# self.timeout defaults higher than the default 2 second VISA timeout,\u001b[39;00m\n\u001b[1;32m    456\u001b[0m \u001b[38;5;66;03m# ensuring that VISA timeouts take precedence.\u001b[39;00m\n",
      "File \u001b[0;32m~/.local/share/virtualenvs/cal-std-8510-fieldfox-XGyRn3yK/lib/python3.11/site-packages/pyvisa_py/protocols/rpc.py:488\u001b[0m, in \u001b[0;36mRawTCPClient.connect\u001b[0;34m(self, timeout)\u001b[0m\n\u001b[1;32m    487\u001b[0m \u001b[38;5;28;01mif\u001b[39;00m \u001b[38;5;129;01mnot\u001b[39;00m _connect(\u001b[38;5;28mself\u001b[39m\u001b[38;5;241m.\u001b[39msock, \u001b[38;5;28mself\u001b[39m\u001b[38;5;241m.\u001b[39mhost, \u001b[38;5;28mself\u001b[39m\u001b[38;5;241m.\u001b[39mport, timeout):\n\u001b[0;32m--> 488\u001b[0m     \u001b[38;5;28;01mraise\u001b[39;00m RPCError(\u001b[38;5;124m\"\u001b[39m\u001b[38;5;124mcan\u001b[39m\u001b[38;5;124m'\u001b[39m\u001b[38;5;124mt connect to server\u001b[39m\u001b[38;5;124m\"\u001b[39m)\n",
      "\u001b[0;31mRPCError\u001b[0m: can't connect to server",
      "\nDuring handling of the above exception, another exception occurred:\n",
      "\u001b[0;31mVisaIOError\u001b[0m                               Traceback (most recent call last)",
      "Cell \u001b[0;32mIn[1], line 5\u001b[0m\n\u001b[1;32m      2\u001b[0m \u001b[38;5;28;01mimport\u001b[39;00m \u001b[38;5;21;01mskrf\u001b[39;00m\u001b[38;5;21;01m.\u001b[39;00m\u001b[38;5;21;01mvi\u001b[39;00m\u001b[38;5;21;01m.\u001b[39;00m\u001b[38;5;21;01mvna\u001b[39;00m\u001b[38;5;21;01m.\u001b[39;00m\u001b[38;5;21;01mkeysight\u001b[39;00m\n\u001b[1;32m      3\u001b[0m t0 \u001b[38;5;241m=\u001b[39m time\u001b[38;5;241m.\u001b[39mtime()\n\u001b[0;32m----> 5\u001b[0m ff \u001b[38;5;241m=\u001b[39m \u001b[43mskrf\u001b[49m\u001b[38;5;241;43m.\u001b[39;49m\u001b[43mvi\u001b[49m\u001b[38;5;241;43m.\u001b[39;49m\u001b[43mvna\u001b[49m\u001b[38;5;241;43m.\u001b[39;49m\u001b[43mkeysight\u001b[49m\u001b[38;5;241;43m.\u001b[39;49m\u001b[43mFieldFox\u001b[49m\u001b[43m(\u001b[49m\u001b[38;5;124;43m'\u001b[39;49m\u001b[38;5;124;43mTCPIP0::192.168.68.65::inst0::INSTR\u001b[39;49m\u001b[38;5;124;43m'\u001b[39;49m\u001b[43m)\u001b[49m\n\u001b[1;32m      6\u001b[0m ff\u001b[38;5;241m.\u001b[39mfreq_start\u001b[38;5;241m=\u001b[39m\u001b[38;5;124m'\u001b[39m\u001b[38;5;124m300kHz\u001b[39m\u001b[38;5;124m'\u001b[39m\n\u001b[1;32m      7\u001b[0m ff\u001b[38;5;241m.\u001b[39mfreq_stop\u001b[38;5;241m=\u001b[39m\u001b[38;5;124m'\u001b[39m\u001b[38;5;124m50GHz\u001b[39m\u001b[38;5;124m'\u001b[39m\n",
      "File \u001b[0;32m/nb/scikit-rf/skrf/vi/vna/keysight/fieldfox.py:174\u001b[0m, in \u001b[0;36mFieldFox.__init__\u001b[0;34m(self, address, backend)\u001b[0m\n\u001b[1;32m    173\u001b[0m \u001b[38;5;28;01mdef\u001b[39;00m \u001b[38;5;21m__init__\u001b[39m(\u001b[38;5;28mself\u001b[39m, address: \u001b[38;5;28mstr\u001b[39m, backend: \u001b[38;5;28mstr\u001b[39m \u001b[38;5;241m=\u001b[39m \u001b[38;5;124m\"\u001b[39m\u001b[38;5;124m@py\u001b[39m\u001b[38;5;124m\"\u001b[39m) \u001b[38;5;241m-\u001b[39m\u001b[38;5;241m>\u001b[39m \u001b[38;5;28;01mNone\u001b[39;00m:\n\u001b[0;32m--> 174\u001b[0m     \u001b[38;5;28;43msuper\u001b[39;49m\u001b[43m(\u001b[49m\u001b[43m)\u001b[49m\u001b[38;5;241;43m.\u001b[39;49m\u001b[38;5;21;43m__init__\u001b[39;49m\u001b[43m(\u001b[49m\u001b[43maddress\u001b[49m\u001b[43m,\u001b[49m\u001b[43m \u001b[49m\u001b[43mbackend\u001b[49m\u001b[43m)\u001b[49m\n\u001b[1;32m    176\u001b[0m     \u001b[38;5;28mself\u001b[39m\u001b[38;5;241m.\u001b[39m_resource\u001b[38;5;241m.\u001b[39mread_termination \u001b[38;5;241m=\u001b[39m \u001b[38;5;124m\"\u001b[39m\u001b[38;5;130;01m\\n\u001b[39;00m\u001b[38;5;124m\"\u001b[39m\n\u001b[1;32m    177\u001b[0m     \u001b[38;5;28mself\u001b[39m\u001b[38;5;241m.\u001b[39m_resource\u001b[38;5;241m.\u001b[39mwrite_termination \u001b[38;5;241m=\u001b[39m \u001b[38;5;124m\"\u001b[39m\u001b[38;5;130;01m\\n\u001b[39;00m\u001b[38;5;124m\"\u001b[39m\n",
      "File \u001b[0;32m/nb/scikit-rf/skrf/vi/vna/vna.py:87\u001b[0m, in \u001b[0;36mVNA.__init__\u001b[0;34m(self, address, backend, timeout)\u001b[0m\n\u001b[1;32m     83\u001b[0m \u001b[38;5;28;01mdef\u001b[39;00m \u001b[38;5;21m__init__\u001b[39m(\n\u001b[1;32m     84\u001b[0m     \u001b[38;5;28mself\u001b[39m, address: \u001b[38;5;28mstr\u001b[39m, backend: \u001b[38;5;28mstr\u001b[39m \u001b[38;5;241m=\u001b[39m \u001b[38;5;124m\"\u001b[39m\u001b[38;5;124m@py\u001b[39m\u001b[38;5;124m\"\u001b[39m, timeout: \u001b[38;5;28mint\u001b[39m \u001b[38;5;241m|\u001b[39m \u001b[38;5;28;01mNone\u001b[39;00m \u001b[38;5;241m=\u001b[39m \u001b[38;5;28;01mNone\u001b[39;00m\n\u001b[1;32m     85\u001b[0m ) \u001b[38;5;241m-\u001b[39m\u001b[38;5;241m>\u001b[39m \u001b[38;5;28;01mNone\u001b[39;00m:\n\u001b[1;32m     86\u001b[0m     rm \u001b[38;5;241m=\u001b[39m pyvisa\u001b[38;5;241m.\u001b[39mResourceManager(backend)\n\u001b[0;32m---> 87\u001b[0m     \u001b[38;5;28mself\u001b[39m\u001b[38;5;241m.\u001b[39m_resource \u001b[38;5;241m=\u001b[39m \u001b[43mrm\u001b[49m\u001b[38;5;241;43m.\u001b[39;49m\u001b[43mopen_resource\u001b[49m\u001b[43m(\u001b[49m\u001b[43maddress\u001b[49m\u001b[43m,\u001b[49m\u001b[43m \u001b[49m\u001b[43mtimeout\u001b[49m\u001b[38;5;241;43m=\u001b[39;49m\u001b[43mtimeout\u001b[49m\u001b[43m)\u001b[49m\n\u001b[1;32m     89\u001b[0m     \u001b[38;5;66;03m# Reading and setting the query values format is instrument specific\u001b[39;00m\n\u001b[1;32m     90\u001b[0m     \u001b[38;5;66;03m# and must be done for each subclass. We default to using ASCII\u001b[39;00m\n\u001b[1;32m     91\u001b[0m     \u001b[38;5;28mself\u001b[39m\u001b[38;5;241m.\u001b[39m_values_fmt: ValuesFormat \u001b[38;5;241m=\u001b[39m ValuesFormat\u001b[38;5;241m.\u001b[39mASCII\n",
      "File \u001b[0;32m~/.local/share/virtualenvs/cal-std-8510-fieldfox-XGyRn3yK/lib/python3.11/site-packages/pyvisa/highlevel.py:3292\u001b[0m, in \u001b[0;36mResourceManager.open_resource\u001b[0;34m(self, resource_name, access_mode, open_timeout, resource_pyclass, **kwargs)\u001b[0m\n\u001b[1;32m   3286\u001b[0m     \u001b[38;5;28;01mif\u001b[39;00m \u001b[38;5;129;01mnot\u001b[39;00m present:\n\u001b[1;32m   3287\u001b[0m         \u001b[38;5;28;01mraise\u001b[39;00m \u001b[38;5;167;01mValueError\u001b[39;00m(\n\u001b[1;32m   3288\u001b[0m             \u001b[38;5;124m\"\u001b[39m\u001b[38;5;132;01m%r\u001b[39;00m\u001b[38;5;124m is not a valid attribute for type \u001b[39m\u001b[38;5;132;01m%s\u001b[39;00m\u001b[38;5;124m\"\u001b[39m\n\u001b[1;32m   3289\u001b[0m             \u001b[38;5;241m%\u001b[39m (key, res\u001b[38;5;241m.\u001b[39m\u001b[38;5;18m__class__\u001b[39m\u001b[38;5;241m.\u001b[39m\u001b[38;5;18m__name__\u001b[39m)\n\u001b[1;32m   3290\u001b[0m         )\n\u001b[0;32m-> 3292\u001b[0m \u001b[43mres\u001b[49m\u001b[38;5;241;43m.\u001b[39;49m\u001b[43mopen\u001b[49m\u001b[43m(\u001b[49m\u001b[43maccess_mode\u001b[49m\u001b[43m,\u001b[49m\u001b[43m \u001b[49m\u001b[43mopen_timeout\u001b[49m\u001b[43m)\u001b[49m\n\u001b[1;32m   3294\u001b[0m \u001b[38;5;28;01mfor\u001b[39;00m key, value \u001b[38;5;129;01min\u001b[39;00m kwargs\u001b[38;5;241m.\u001b[39mitems():\n\u001b[1;32m   3295\u001b[0m     \u001b[38;5;28msetattr\u001b[39m(res, key, value)\n",
      "File \u001b[0;32m~/.local/share/virtualenvs/cal-std-8510-fieldfox-XGyRn3yK/lib/python3.11/site-packages/pyvisa/resources/resource.py:281\u001b[0m, in \u001b[0;36mResource.open\u001b[0;34m(self, access_mode, open_timeout)\u001b[0m\n\u001b[1;32m    277\u001b[0m logger\u001b[38;5;241m.\u001b[39mdebug(\u001b[38;5;124m\"\u001b[39m\u001b[38;5;132;01m%s\u001b[39;00m\u001b[38;5;124m - opening ...\u001b[39m\u001b[38;5;124m\"\u001b[39m, \u001b[38;5;28mself\u001b[39m\u001b[38;5;241m.\u001b[39m_resource_name, extra\u001b[38;5;241m=\u001b[39m\u001b[38;5;28mself\u001b[39m\u001b[38;5;241m.\u001b[39m_logging_extra)\n\u001b[1;32m    278\u001b[0m \u001b[38;5;28;01mwith\u001b[39;00m \u001b[38;5;28mself\u001b[39m\u001b[38;5;241m.\u001b[39m_resource_manager\u001b[38;5;241m.\u001b[39mignore_warning(\n\u001b[1;32m    279\u001b[0m     constants\u001b[38;5;241m.\u001b[39mStatusCode\u001b[38;5;241m.\u001b[39msuccess_device_not_present\n\u001b[1;32m    280\u001b[0m ):\n\u001b[0;32m--> 281\u001b[0m     \u001b[38;5;28mself\u001b[39m\u001b[38;5;241m.\u001b[39msession, status \u001b[38;5;241m=\u001b[39m \u001b[38;5;28;43mself\u001b[39;49m\u001b[38;5;241;43m.\u001b[39;49m\u001b[43m_resource_manager\u001b[49m\u001b[38;5;241;43m.\u001b[39;49m\u001b[43mopen_bare_resource\u001b[49m\u001b[43m(\u001b[49m\n\u001b[1;32m    282\u001b[0m \u001b[43m        \u001b[49m\u001b[38;5;28;43mself\u001b[39;49m\u001b[38;5;241;43m.\u001b[39;49m\u001b[43m_resource_name\u001b[49m\u001b[43m,\u001b[49m\u001b[43m \u001b[49m\u001b[43maccess_mode\u001b[49m\u001b[43m,\u001b[49m\u001b[43m \u001b[49m\u001b[43mopen_timeout\u001b[49m\n\u001b[1;32m    283\u001b[0m \u001b[43m    \u001b[49m\u001b[43m)\u001b[49m\n\u001b[1;32m    285\u001b[0m     \u001b[38;5;28;01mif\u001b[39;00m status \u001b[38;5;241m==\u001b[39m constants\u001b[38;5;241m.\u001b[39mStatusCode\u001b[38;5;241m.\u001b[39msuccess_device_not_present:\n\u001b[1;32m    286\u001b[0m         \u001b[38;5;66;03m# The device was not ready when we opened the session.\u001b[39;00m\n\u001b[1;32m    287\u001b[0m         \u001b[38;5;66;03m# Now it gets five seconds more to become ready.\u001b[39;00m\n\u001b[1;32m    288\u001b[0m         \u001b[38;5;66;03m# Every 0.1 seconds we probe it with viClear.\u001b[39;00m\n\u001b[1;32m    289\u001b[0m         start_time \u001b[38;5;241m=\u001b[39m time\u001b[38;5;241m.\u001b[39mtime()\n",
      "File \u001b[0;32m~/.local/share/virtualenvs/cal-std-8510-fieldfox-XGyRn3yK/lib/python3.11/site-packages/pyvisa/highlevel.py:3217\u001b[0m, in \u001b[0;36mResourceManager.open_bare_resource\u001b[0;34m(self, resource_name, access_mode, open_timeout)\u001b[0m\n\u001b[1;32m   3188\u001b[0m \u001b[38;5;28;01mdef\u001b[39;00m \u001b[38;5;21mopen_bare_resource\u001b[39m(\n\u001b[1;32m   3189\u001b[0m     \u001b[38;5;28mself\u001b[39m,\n\u001b[1;32m   3190\u001b[0m     resource_name: \u001b[38;5;28mstr\u001b[39m,\n\u001b[1;32m   3191\u001b[0m     access_mode: constants\u001b[38;5;241m.\u001b[39mAccessModes \u001b[38;5;241m=\u001b[39m constants\u001b[38;5;241m.\u001b[39mAccessModes\u001b[38;5;241m.\u001b[39mno_lock,\n\u001b[1;32m   3192\u001b[0m     open_timeout: \u001b[38;5;28mint\u001b[39m \u001b[38;5;241m=\u001b[39m constants\u001b[38;5;241m.\u001b[39mVI_TMO_IMMEDIATE,\n\u001b[1;32m   3193\u001b[0m ) \u001b[38;5;241m-\u001b[39m\u001b[38;5;241m>\u001b[39m Tuple[VISASession, StatusCode]:\n\u001b[1;32m   3194\u001b[0m \u001b[38;5;250m    \u001b[39m\u001b[38;5;124;03m\"\"\"Open the specified resource without wrapping into a class.\u001b[39;00m\n\u001b[1;32m   3195\u001b[0m \n\u001b[1;32m   3196\u001b[0m \u001b[38;5;124;03m    Parameters\u001b[39;00m\n\u001b[0;32m   (...)\u001b[0m\n\u001b[1;32m   3215\u001b[0m \n\u001b[1;32m   3216\u001b[0m \u001b[38;5;124;03m    \"\"\"\u001b[39;00m\n\u001b[0;32m-> 3217\u001b[0m     \u001b[38;5;28;01mreturn\u001b[39;00m \u001b[38;5;28;43mself\u001b[39;49m\u001b[38;5;241;43m.\u001b[39;49m\u001b[43mvisalib\u001b[49m\u001b[38;5;241;43m.\u001b[39;49m\u001b[43mopen\u001b[49m\u001b[43m(\u001b[49m\u001b[38;5;28;43mself\u001b[39;49m\u001b[38;5;241;43m.\u001b[39;49m\u001b[43msession\u001b[49m\u001b[43m,\u001b[49m\u001b[43m \u001b[49m\u001b[43mresource_name\u001b[49m\u001b[43m,\u001b[49m\u001b[43m \u001b[49m\u001b[43maccess_mode\u001b[49m\u001b[43m,\u001b[49m\u001b[43m \u001b[49m\u001b[43mopen_timeout\u001b[49m\u001b[43m)\u001b[49m\n",
      "File \u001b[0;32m~/.local/share/virtualenvs/cal-std-8510-fieldfox-XGyRn3yK/lib/python3.11/site-packages/pyvisa_py/highlevel.py:168\u001b[0m, in \u001b[0;36mPyVisaLibrary.open\u001b[0;34m(self, session, resource_name, access_mode, open_timeout)\u001b[0m\n\u001b[1;32m    159\u001b[0m     \u001b[38;5;28;01mreturn\u001b[39;00m (\n\u001b[1;32m    160\u001b[0m         VISASession(\u001b[38;5;241m0\u001b[39m),\n\u001b[1;32m    161\u001b[0m         \u001b[38;5;28mself\u001b[39m\u001b[38;5;241m.\u001b[39mhandle_return_value(\u001b[38;5;28;01mNone\u001b[39;00m, StatusCode\u001b[38;5;241m.\u001b[39merror_invalid_resource_name),\n\u001b[1;32m    162\u001b[0m     )\n\u001b[1;32m    164\u001b[0m \u001b[38;5;28mcls\u001b[39m \u001b[38;5;241m=\u001b[39m sessions\u001b[38;5;241m.\u001b[39mSession\u001b[38;5;241m.\u001b[39mget_session_class(\n\u001b[1;32m    165\u001b[0m     parsed\u001b[38;5;241m.\u001b[39minterface_type_const, parsed\u001b[38;5;241m.\u001b[39mresource_class\n\u001b[1;32m    166\u001b[0m )\n\u001b[0;32m--> 168\u001b[0m sess \u001b[38;5;241m=\u001b[39m \u001b[38;5;28;43mcls\u001b[39;49m\u001b[43m(\u001b[49m\u001b[43msession\u001b[49m\u001b[43m,\u001b[49m\u001b[43m \u001b[49m\u001b[43mresource_name\u001b[49m\u001b[43m,\u001b[49m\u001b[43m \u001b[49m\u001b[43mparsed\u001b[49m\u001b[43m,\u001b[49m\u001b[43m \u001b[49m\u001b[43mopen_timeout\u001b[49m\u001b[43m)\u001b[49m\n\u001b[1;32m    170\u001b[0m \u001b[38;5;28;01mreturn\u001b[39;00m \u001b[38;5;28mself\u001b[39m\u001b[38;5;241m.\u001b[39m_register(sess), StatusCode\u001b[38;5;241m.\u001b[39msuccess\n",
      "File \u001b[0;32m~/.local/share/virtualenvs/cal-std-8510-fieldfox-XGyRn3yK/lib/python3.11/site-packages/pyvisa_py/tcpip.py:86\u001b[0m, in \u001b[0;36mTCPIPInstrSession.__new__\u001b[0;34m(cls, resource_manager_session, resource_name, parsed, open_timeout)\u001b[0m\n\u001b[1;32m     83\u001b[0m \u001b[38;5;28;01melse\u001b[39;00m:\n\u001b[1;32m     84\u001b[0m     newcls \u001b[38;5;241m=\u001b[39m TCPIPInstrVxi11\n\u001b[0;32m---> 86\u001b[0m \u001b[38;5;28;01mreturn\u001b[39;00m \u001b[43mnewcls\u001b[49m\u001b[43m(\u001b[49m\u001b[43mresource_manager_session\u001b[49m\u001b[43m,\u001b[49m\u001b[43m \u001b[49m\u001b[43mresource_name\u001b[49m\u001b[43m,\u001b[49m\u001b[43m \u001b[49m\u001b[43mparsed\u001b[49m\u001b[43m,\u001b[49m\u001b[43m \u001b[49m\u001b[43mopen_timeout\u001b[49m\u001b[43m)\u001b[49m\n",
      "File \u001b[0;32m~/.local/share/virtualenvs/cal-std-8510-fieldfox-XGyRn3yK/lib/python3.11/site-packages/pyvisa_py/sessions.py:322\u001b[0m, in \u001b[0;36mSession.__init__\u001b[0;34m(self, resource_manager_session, resource_name, parsed, open_timeout)\u001b[0m\n\u001b[1;32m    319\u001b[0m default_timeout \u001b[38;5;241m=\u001b[39m attributes\u001b[38;5;241m.\u001b[39mAttributesByID[attr]\u001b[38;5;241m.\u001b[39mdefault\n\u001b[1;32m    320\u001b[0m \u001b[38;5;28mself\u001b[39m\u001b[38;5;241m.\u001b[39mset_attribute(attr, default_timeout)\n\u001b[0;32m--> 322\u001b[0m \u001b[38;5;28;43mself\u001b[39;49m\u001b[38;5;241;43m.\u001b[39;49m\u001b[43mafter_parsing\u001b[49m\u001b[43m(\u001b[49m\u001b[43m)\u001b[49m\n",
      "File \u001b[0;32m~/.local/share/virtualenvs/cal-std-8510-fieldfox-XGyRn3yK/lib/python3.11/site-packages/pyvisa_py/tcpip.py:459\u001b[0m, in \u001b[0;36mTCPIPInstrVxi11.after_parsing\u001b[0;34m(self)\u001b[0m\n\u001b[1;32m    457\u001b[0m     \u001b[38;5;28mself\u001b[39m\u001b[38;5;241m.\u001b[39minterface \u001b[38;5;241m=\u001b[39m Vxi11CoreClient(host_address, port, \u001b[38;5;28mself\u001b[39m\u001b[38;5;241m.\u001b[39mopen_timeout)\n\u001b[1;32m    458\u001b[0m \u001b[38;5;28;01mexcept\u001b[39;00m rpc\u001b[38;5;241m.\u001b[39mRPCError:\n\u001b[0;32m--> 459\u001b[0m     \u001b[38;5;28;01mraise\u001b[39;00m errors\u001b[38;5;241m.\u001b[39mVisaIOError(constants\u001b[38;5;241m.\u001b[39mVI_ERROR_RSRC_NFOUND)\n\u001b[1;32m    461\u001b[0m \u001b[38;5;66;03m# vxi11 expect all timeouts to be expressed in ms and should be integers\u001b[39;00m\n\u001b[1;32m    462\u001b[0m \u001b[38;5;28mself\u001b[39m\u001b[38;5;241m.\u001b[39mlock_timeout \u001b[38;5;241m=\u001b[39m \u001b[38;5;241m10000\u001b[39m\n",
      "\u001b[0;31mVisaIOError\u001b[0m: VI_ERROR_RSRC_NFOUND (-1073807343): Insufficient location information or the requested device or resource is not present in the system."
     ]
    }
   ],
   "source": [
    "import time, tqdm\n",
    "import skrf.vi.vna.keysight\n",
    "t0 = time.time()\n",
    "\n",
    "ff = skrf.vi.vna.keysight.FieldFox('TCPIP0::192.168.68.65::inst0::INSTR')\n",
    "ff.freq_start='300kHz'\n",
    "ff.freq_stop='50GHz'\n",
    "ff.npoints=1001\n",
    "ff.if_bandwidth=100\n",
    "\n",
    "for i in tqdm.tqdm(range(1000000000)):\n",
    "    t = time.time()-t0\n",
    "    net=ff.get_snp_network([1]) # 85058B  3654B  85056A  \n",
    "    net.write_touchstone(filename=f'DRIFT_FieldFox/DRIFT1_t={int(t)}s.s1p')"
   ]
  },
  {
   "cell_type": "code",
   "execution_count": 4,
   "id": "6006d75e-4e1f-4d5b-acc1-be9d7e0ad7f7",
   "metadata": {},
   "outputs": [
    {
     "data": {
      "text/plain": [
       "88.60825610160828"
      ]
     },
     "execution_count": 4,
     "metadata": {},
     "output_type": "execute_result"
    }
   ],
   "source": [
    "time.time()-t0"
   ]
  },
  {
   "cell_type": "markdown",
   "id": "d9603d49-3006-4a9d-81e2-faebe4aebcc0",
   "metadata": {},
   "source": [
    "# 8510"
   ]
  },
  {
   "cell_type": "code",
   "execution_count": null,
   "id": "6b60c43f-1f08-4563-9e53-d44e16720400",
   "metadata": {},
   "outputs": [],
   "source": [
    "import skrf.vi.vna.hp\n",
    "import skrf, time, os\n",
    "import tqdm, numpy as np\n",
    "import matplotlib.pyplot as plt\n",
    "vna = skrf.vi.vna.hp.HP8510C('TCPIP::ad007-left.jdewerd.com::gpib0,16::INSTR')"
   ]
  },
  {
   "cell_type": "code",
   "execution_count": null,
   "id": "38a03837-f024-4cbd-b748-5620144f13a3",
   "metadata": {},
   "outputs": [],
   "source": [
    "t0 = time.time()\n",
    "vna.set_frequency_sweep(45e6,50e9,1601)\n",
    "for i in tqdm.tqdm(range(1000000000)):\n",
    "    t = time.time()-t0\n",
    "    fname = f'DRIFT_8510C/DRIFT1_t={int(t)}s.s1p'\n",
    "    if os.path.exists(fname):\n",
    "        print('!!! FILE EXISTS !!!')\n",
    "        continue\n",
    "    net = vna.get_snp_network(ports=(1,))\n",
    "    net.write_touchstone(filename=fname)"
   ]
  },
  {
   "cell_type": "code",
   "execution_count": null,
   "id": "ecdc75d1-b6b9-444a-a839-8eeb5e0c0a93",
   "metadata": {},
   "outputs": [],
   "source": []
  }
 ],
 "metadata": {
  "kernelspec": {
   "display_name": "cal-std-8510-fieldfox",
   "language": "python",
   "name": "cal-std-8510-fieldfox"
  },
  "language_info": {
   "codemirror_mode": {
    "name": "ipython",
    "version": 3
   },
   "file_extension": ".py",
   "mimetype": "text/x-python",
   "name": "python",
   "nbconvert_exporter": "python",
   "pygments_lexer": "ipython3",
   "version": "3.11.4"
  }
 },
 "nbformat": 4,
 "nbformat_minor": 5
}
